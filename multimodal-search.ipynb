{
 "cells": [
  {
   "cell_type": "markdown",
   "id": "e1ac8c3c-c488-448e-9b0a-b8ec8aa2aa5e",
   "metadata": {},
   "source": [
    "1. Use Environment Variables Securely\n",
    "Using dotenv to load the environment variables, which is great. However, it's a good practice to check if the environment variables are loaded correctly and provide fallback values or error messages if they are missing.\n",
    "\n"
   ]
  },
  {
   "cell_type": "code",
   "execution_count": null,
   "id": "2eece94e-47f4-45f1-8655-f1e55efa0bda",
   "metadata": {},
   "outputs": [],
   "source": [
    "EMBEDDING_API_KEY = os.getenv(\"EMBEDDING_API_KEY\")\n",
    "if EMBEDDING_API_KEY is None:\n",
    "    raise ValueError(\"EMBEDDING_API_KEY is missing. Please check your .env file.\")\n"
   ]
  },
  {
   "cell_type": "markdown",
   "id": "b0d82465-416e-47a6-a8a2-3b7584ecf202",
   "metadata": {},
   "source": [
    "2. Modularize Code\n",
    "The code can be split into smaller, reusable functions, especially for tasks like connecting to Weaviate, inserting data, and running queries. This will improve code structure and reduce duplication."
   ]
  },
  {
   "cell_type": "code",
   "execution_count": null,
   "id": "6b734277-1f48-4cc5-9643-8206601a2b73",
   "metadata": {},
   "outputs": [],
   "source": [
    "def connect_to_weaviate(api_key):\n",
    "    return weaviate.connect_to_embedded(\n",
    "        version=\"1.24.21\",\n",
    "        environment_variables={\n",
    "            \"ENABLE_MODULES\": \"backup-filesystem,multi2vec-palm\",\n",
    "            \"BACKUP_FILESYSTEM_PATH\": \"/home/jovyan/work/L2/backups\",\n",
    "        },\n",
    "        headers={\"X-PALM-Api-Key\": api_key}\n",
    "    )\n",
    "\n",
    "client = connect_to_weaviate(EMBEDDING_API_KEY)\n"
   ]
  },
  {
   "cell_type": "markdown",
   "id": "ec3986f7-5e9f-4bb9-81e9-674af5764590",
   "metadata": {},
   "source": [
    "3. Use Try-Except Blocks for Error Handling\n",
    "Add error handling when connecting to Weaviate, uploading files, or running queries. This will make your program more robust and prevent crashes."
   ]
  },
  {
   "cell_type": "code",
   "execution_count": null,
   "id": "a34f3167-2460-4bba-9ecc-ccfd3661b406",
   "metadata": {},
   "outputs": [],
   "source": [
    "try:\n",
    "    client.is_ready()\n",
    "except Exception as e:\n",
    "    print(f\"Error connecting to Weaviate: {e}\")\n",
    "    raise\n"
   ]
  },
  {
   "cell_type": "markdown",
   "id": "3bf28993-d172-41e8-be0e-dd9857e60e6f",
   "metadata": {},
   "source": [
    "4. Batch Insert Optimization\n",
    "Inserting data in batches should include more precise logging and error handling to track failures more easily."
   ]
  },
  {
   "cell_type": "code",
   "execution_count": null,
   "id": "929fd5f5-7eaf-438b-8b62-3be4ec2cc0c3",
   "metadata": {},
   "outputs": [],
   "source": [
    "with animals.batch.rate_limit(requests_per_minute=100) as batch:\n",
    "    for name in source:\n",
    "        path = \"./source/image/\" + name\n",
    "        try:\n",
    "            batch.add_object({\n",
    "                \"name\": name,\n",
    "                \"path\": path,\n",
    "                \"image\": toBase64(path),\n",
    "                \"mediaType\": \"image\",\n",
    "            })\n",
    "        except Exception as e:\n",
    "            print(f\"Error inserting {name}: {e}\")\n"
   ]
  },
  {
   "cell_type": "markdown",
   "id": "aa1ddc03-5ac4-4c98-99dc-8cc915ceb230",
   "metadata": {},
   "source": [
    "5. Optimize File I/O\n",
    "Instead of repeatedly opening files with toBase64 or file_to_base64, cache the base64 representations when possible."
   ]
  },
  {
   "cell_type": "code",
   "execution_count": null,
   "id": "938da994-213e-44a3-8f7e-6e709452aa9a",
   "metadata": {},
   "outputs": [],
   "source": [
    "base64_cache = {}\n",
    "\n",
    "def toBase64(path):\n",
    "    if path not in base64_cache:\n",
    "        with open(path, 'rb') as file:\n",
    "            base64_cache[path] = base64.b64encode(file.read()).decode('utf-8')\n",
    "    return base64_cache[path]\n"
   ]
  },
  {
   "cell_type": "markdown",
   "id": "e937e00b-2c3d-4a77-8602-eb79f33f4783",
   "metadata": {},
   "source": [
    "6. Improve Logging\n",
    "Use a logging framework like Python’s logging module instead of print statements for better control and logging levels (e.g., INFO, ERROR, etc.).\n",
    "\n"
   ]
  },
  {
   "cell_type": "code",
   "execution_count": null,
   "id": "d4397d2f-76f6-46f6-bba5-c714bfc9f4e0",
   "metadata": {},
   "outputs": [],
   "source": [
    "import logging\n",
    "\n",
    "logging.basicConfig(level=logging.INFO)\n",
    "\n",
    "# Log successful connections\n",
    "logging.info(\"Weaviate client is ready.\")\n"
   ]
  },
  {
   "cell_type": "markdown",
   "id": "c7860dfb-ddb0-452b-b8cc-83e4876365db",
   "metadata": {},
   "source": [
    "7. Enable Parallel Processing\n",
    "For larger datasets, use parallel processing to speed up base64 encoding and insertions. You can use Python’s concurrent.futures or multiprocessing to parallelize I/O-bound tasks like encoding files."
   ]
  },
  {
   "cell_type": "code",
   "execution_count": null,
   "id": "1d37638d-9b97-4f48-affd-29ca4736e99b",
   "metadata": {},
   "outputs": [],
   "source": [
    "from concurrent.futures import ThreadPoolExecutor\n",
    "\n",
    "def insert_object(file_path):\n",
    "    # Insert your batch logic here\n",
    "    pass\n",
    "\n",
    "with ThreadPoolExecutor(max_workers=5) as executor:\n",
    "    results = executor.map(insert_object, source)\n"
   ]
  },
  {
   "cell_type": "markdown",
   "id": "eb6d3321-8401-4db6-bfda-46d29d74705b",
   "metadata": {},
   "source": [
    "8. Use Configurable Parameters\n",
    "Make parameters like the number of objects to query or request limits configurable, so you can change them without altering the code. Use environment variables or configuration files to store such values."
   ]
  },
  {
   "cell_type": "code",
   "execution_count": null,
   "id": "dfb4d42e-dc50-4a5c-b70a-f4e97b954d3d",
   "metadata": {},
   "outputs": [],
   "source": [
    "REQUESTS_PER_MINUTE = int(os.getenv(\"REQUESTS_PER_MINUTE\", 100))\n",
    "QUERY_LIMIT = int(os.getenv(\"QUERY_LIMIT\", 3))\n"
   ]
  },
  {
   "cell_type": "raw",
   "id": "d42b9544-e04e-44ba-89a7-126a40f9815b",
   "metadata": {},
   "source": [
    "9. Add Unit Tests\n",
    "Write unit tests for the helper functions like toBase64, file_to_base64, and API calls to ensure correctness."
   ]
  },
  {
   "cell_type": "code",
   "execution_count": null,
   "id": "a653935f-3420-44f0-9285-6478f61eef40",
   "metadata": {},
   "outputs": [],
   "source": [
    "def test_base64_conversion():\n",
    "    assert toBase64(\"./test/test-cat.jpg\") is not None\n"
   ]
  },
  {
   "cell_type": "markdown",
   "id": "c3ca9b87-5c0b-4642-a27b-0d74f2ed8e49",
   "metadata": {},
   "source": [
    "10. Handle Large Dataset Loading Efficiently\n",
    "When working with large datasets, loading all data at once might not be feasible. You can process data in chunks to avoid memory overload."
   ]
  },
  {
   "cell_type": "code",
   "execution_count": null,
   "id": "85af8522-438e-4592-9d40-8df7e0b04d19",
   "metadata": {},
   "outputs": [],
   "source": [
    "def load_data_in_chunks(client, batch_size=100):\n",
    "    source = os.listdir(\"./source/animal_image/\")\n",
    "    for i in range(0, len(source), batch_size):\n",
    "        chunk = source[i:i+batch_size]\n",
    "        insert_objects(chunk)\n"
   ]
  },
  {
   "cell_type": "markdown",
   "id": "456b344f-83af-4be5-8dde-c7ed07ce5453",
   "metadata": {},
   "source": [
    "11. Add Visual Feedback\n",
    "For better understanding, show more detailed progress bars, especially for long-running tasks like inserting data or restoring backups."
   ]
  },
  {
   "cell_type": "code",
   "execution_count": null,
   "id": "aee429e4-fc74-4f4c-b0b3-1c1be649f2f2",
   "metadata": {},
   "outputs": [],
   "source": [
    "from tqdm.notebook import tqdm\n",
    "\n",
    "for name in tqdm(source, desc=\"Inserting images\"):\n",
    "    path = \"./source/image/\" + name\n",
    "    animals.batch.add_object({\n",
    "        \"name\": name,\n",
    "        \"path\": path,\n",
    "        \"image\": toBase64(path),\n",
    "        \"mediaType\": \"image\"\n",
    "    })\n"
   ]
  },
  {
   "cell_type": "markdown",
   "id": "4b7041ac-ff6e-4ffe-99f8-2b74b35a3cae",
   "metadata": {},
   "source": [
    "12. Optimize UMAP for Large Datasets\n",
    "UMAP might take a long time for very large datasets. You can experiment with different hyperparameters like n_neighbors, min_dist, and metric to get faster performance."
   ]
  },
  {
   "cell_type": "code",
   "execution_count": null,
   "id": "4d69e195-5c2c-4dca-aa15-2570bf51ecc4",
   "metadata": {},
   "outputs": [],
   "source": [
    "mapper2 = umap.UMAP(n_neighbors=15, min_dist=0.1, metric='cosine').fit(emb_df)\n"
   ]
  },
  {
   "cell_type": "code",
   "execution_count": null,
   "id": "15e9f89e-5bef-45c1-bc54-c5c8c543320d",
   "metadata": {},
   "outputs": [],
   "source": []
  }
 ],
 "metadata": {
  "kernelspec": {
   "display_name": "Python 3 (ipykernel)",
   "language": "python",
   "name": "python3"
  },
  "language_info": {
   "codemirror_mode": {
    "name": "ipython",
    "version": 3
   },
   "file_extension": ".py",
   "mimetype": "text/x-python",
   "name": "python",
   "nbconvert_exporter": "python",
   "pygments_lexer": "ipython3",
   "version": "3.11.5"
  }
 },
 "nbformat": 4,
 "nbformat_minor": 5
}
